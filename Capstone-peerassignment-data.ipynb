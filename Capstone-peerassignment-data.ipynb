{
 "cells": [
  {
   "cell_type": "code",
   "execution_count": 2,
   "metadata": {},
   "outputs": [
    {
     "name": "stdout",
     "output_type": "stream",
     "text": [
      "Requirement already satisfied: geopy in c:\\users\\wajee\\anaconda3\\lib\\site-packages (2.0.0)\n",
      "Requirement already satisfied: geographiclib<2,>=1.49 in c:\\users\\wajee\\anaconda3\\lib\\site-packages (from geopy) (1.50)\n",
      "Requirement already satisfied: Nominatim in c:\\users\\wajee\\anaconda3\\lib\\site-packages (0.1)\n",
      "Requirement already satisfied: opencage in c:\\users\\wajee\\anaconda3\\lib\\site-packages (1.2.2)\n",
      "Requirement already satisfied: backoff>=1.10.0 in c:\\users\\wajee\\anaconda3\\lib\\site-packages (from opencage) (1.10.0)\n",
      "Requirement already satisfied: Requests>=2.2.0 in c:\\users\\wajee\\anaconda3\\lib\\site-packages (from opencage) (2.24.0)\n",
      "Requirement already satisfied: six>=1.4.0 in c:\\users\\wajee\\anaconda3\\lib\\site-packages (from opencage) (1.15.0)\n",
      "Requirement already satisfied: pyopenssl>=0.15.1 in c:\\users\\wajee\\anaconda3\\lib\\site-packages (from opencage) (19.1.0)\n",
      "Requirement already satisfied: urllib3!=1.25.0,!=1.25.1,<1.26,>=1.21.1 in c:\\users\\wajee\\anaconda3\\lib\\site-packages (from Requests>=2.2.0->opencage) (1.25.9)\n",
      "Requirement already satisfied: chardet<4,>=3.0.2 in c:\\users\\wajee\\anaconda3\\lib\\site-packages (from Requests>=2.2.0->opencage) (3.0.4)\n",
      "Requirement already satisfied: certifi>=2017.4.17 in c:\\users\\wajee\\anaconda3\\lib\\site-packages (from Requests>=2.2.0->opencage) (2020.6.20)\n",
      "Requirement already satisfied: idna<3,>=2.5 in c:\\users\\wajee\\anaconda3\\lib\\site-packages (from Requests>=2.2.0->opencage) (2.10)\n",
      "Requirement already satisfied: cryptography>=2.8 in c:\\users\\wajee\\anaconda3\\lib\\site-packages (from pyopenssl>=0.15.1->opencage) (2.9.2)\n",
      "Requirement already satisfied: cffi!=1.11.3,>=1.8 in c:\\users\\wajee\\anaconda3\\lib\\site-packages (from cryptography>=2.8->pyopenssl>=0.15.1->opencage) (1.14.0)\n",
      "Requirement already satisfied: pycparser in c:\\users\\wajee\\anaconda3\\lib\\site-packages (from cffi!=1.11.3,>=1.8->cryptography>=2.8->pyopenssl>=0.15.1->opencage) (2.20)\n"
     ]
    }
   ],
   "source": [
    "!pip install geopy \n",
    "!pip install Nominatim\n",
    "!pip install opencage"
   ]
  },
  {
   "cell_type": "code",
   "execution_count": 3,
   "metadata": {},
   "outputs": [],
   "source": [
    "import pandas as pd\n",
    "import numpy as np\n",
    "import requests\n",
    "import folium\n",
    "from geopy.geocoders import Nominatim\n",
    "from opencage.geocoder import OpenCageGeocode"
   ]
  },
  {
   "cell_type": "code",
   "execution_count": 4,
   "metadata": {},
   "outputs": [
    {
     "data": {
      "text/html": [
       "<div>\n",
       "<style scoped>\n",
       "    .dataframe tbody tr th:only-of-type {\n",
       "        vertical-align: middle;\n",
       "    }\n",
       "\n",
       "    .dataframe tbody tr th {\n",
       "        vertical-align: top;\n",
       "    }\n",
       "\n",
       "    .dataframe thead th {\n",
       "        text-align: right;\n",
       "    }\n",
       "</style>\n",
       "<table border=\"1\" class=\"dataframe\">\n",
       "  <thead>\n",
       "    <tr style=\"text-align: right;\">\n",
       "      <th></th>\n",
       "      <th>Code commune</th>\n",
       "      <th>Commune</th>\n",
       "      <th>Population</th>\n",
       "      <th>Income</th>\n",
       "    </tr>\n",
       "  </thead>\n",
       "  <tbody>\n",
       "    <tr>\n",
       "      <th>0</th>\n",
       "      <td>74001</td>\n",
       "      <td>Abondance</td>\n",
       "      <td>1408</td>\n",
       "      <td>3797589</td>\n",
       "    </tr>\n",
       "    <tr>\n",
       "      <th>1</th>\n",
       "      <td>74002</td>\n",
       "      <td>Alby-sur-Chéran</td>\n",
       "      <td>2580</td>\n",
       "      <td>3070608</td>\n",
       "    </tr>\n",
       "    <tr>\n",
       "      <th>2</th>\n",
       "      <td>74003</td>\n",
       "      <td>Alex</td>\n",
       "      <td>1052</td>\n",
       "      <td>1363040</td>\n",
       "    </tr>\n",
       "    <tr>\n",
       "      <th>3</th>\n",
       "      <td>74004</td>\n",
       "      <td>Allèves</td>\n",
       "      <td>409</td>\n",
       "      <td>403747</td>\n",
       "    </tr>\n",
       "    <tr>\n",
       "      <th>4</th>\n",
       "      <td>74005</td>\n",
       "      <td>Allinges</td>\n",
       "      <td>4433</td>\n",
       "      <td>5816560</td>\n",
       "    </tr>\n",
       "  </tbody>\n",
       "</table>\n",
       "</div>"
      ],
      "text/plain": [
       "   Code commune          Commune  Population   Income\n",
       "0         74001        Abondance        1408  3797589\n",
       "1         74002  Alby-sur-Chéran        2580  3070608\n",
       "2         74003             Alex        1052  1363040\n",
       "3         74004          Allèves         409   403747\n",
       "4         74005         Allinges        4433  5816560"
      ]
     },
     "execution_count": 4,
     "metadata": {},
     "output_type": "execute_result"
    }
   ],
   "source": [
    "df = pd.read_excel(r\"C:/Users/wajee/Downloads/commune de haute-savoie.xlsx\",sheet_name='Figure 3')\n",
    "df.head()"
   ]
  },
  {
   "cell_type": "code",
   "execution_count": 5,
   "metadata": {},
   "outputs": [
    {
     "data": {
      "text/html": [
       "<div>\n",
       "<style scoped>\n",
       "    .dataframe tbody tr th:only-of-type {\n",
       "        vertical-align: middle;\n",
       "    }\n",
       "\n",
       "    .dataframe tbody tr th {\n",
       "        vertical-align: top;\n",
       "    }\n",
       "\n",
       "    .dataframe thead th {\n",
       "        text-align: right;\n",
       "    }\n",
       "</style>\n",
       "<table border=\"1\" class=\"dataframe\">\n",
       "  <thead>\n",
       "    <tr style=\"text-align: right;\">\n",
       "      <th></th>\n",
       "      <th>Code</th>\n",
       "      <th>Commune</th>\n",
       "      <th>Population</th>\n",
       "      <th>Income</th>\n",
       "    </tr>\n",
       "  </thead>\n",
       "  <tbody>\n",
       "    <tr>\n",
       "      <th>0</th>\n",
       "      <td>74001</td>\n",
       "      <td>Abondance</td>\n",
       "      <td>1408</td>\n",
       "      <td>3797589</td>\n",
       "    </tr>\n",
       "    <tr>\n",
       "      <th>1</th>\n",
       "      <td>74002</td>\n",
       "      <td>Alby-sur-Chéran</td>\n",
       "      <td>2580</td>\n",
       "      <td>3070608</td>\n",
       "    </tr>\n",
       "    <tr>\n",
       "      <th>2</th>\n",
       "      <td>74003</td>\n",
       "      <td>Alex</td>\n",
       "      <td>1052</td>\n",
       "      <td>1363040</td>\n",
       "    </tr>\n",
       "    <tr>\n",
       "      <th>3</th>\n",
       "      <td>74004</td>\n",
       "      <td>Allèves</td>\n",
       "      <td>409</td>\n",
       "      <td>403747</td>\n",
       "    </tr>\n",
       "    <tr>\n",
       "      <th>4</th>\n",
       "      <td>74005</td>\n",
       "      <td>Allinges</td>\n",
       "      <td>4433</td>\n",
       "      <td>5816560</td>\n",
       "    </tr>\n",
       "  </tbody>\n",
       "</table>\n",
       "</div>"
      ],
      "text/plain": [
       "    Code          Commune  Population   Income\n",
       "0  74001        Abondance        1408  3797589\n",
       "1  74002  Alby-sur-Chéran        2580  3070608\n",
       "2  74003             Alex        1052  1363040\n",
       "3  74004          Allèves         409   403747\n",
       "4  74005         Allinges        4433  5816560"
      ]
     },
     "execution_count": 5,
     "metadata": {},
     "output_type": "execute_result"
    }
   ],
   "source": [
    "df.rename(columns={'Code commune':'Code'},inplace=True)\n",
    "df.head()"
   ]
  },
  {
   "cell_type": "code",
   "execution_count": 6,
   "metadata": {},
   "outputs": [
    {
     "data": {
      "text/plain": [
       "Index(['Code', 'Commune', 'Population', 'Income'], dtype='object')"
      ]
     },
     "execution_count": 6,
     "metadata": {},
     "output_type": "execute_result"
    }
   ],
   "source": [
    "df.columns"
   ]
  },
  {
   "cell_type": "code",
   "execution_count": 7,
   "metadata": {},
   "outputs": [
    {
     "name": "stdout",
     "output_type": "stream",
     "text": [
      "[{'annotations': {'DMS': {'lat': \"46° 4' 7.75488'' N\", 'lng': \"6° 20' 40.33320'' E\"}, 'MGRS': '32TKS9463905122', 'Maidenhead': 'JN36eb16im', 'Mercator': {'x': 706270.627, 'y': 5760599.275}, 'OSM': {'edit_url': 'https://www.openstreetmap.org/edit?relation=7407#map=16/46.06882/6.34454', 'note_url': 'https://www.openstreetmap.org/note/new#map=16/46.06882/6.34454&layers=N', 'url': 'https://www.openstreetmap.org/?mlat=46.06882&mlon=6.34454#map=16/46.06882/6.34454'}, 'UN_M49': {'regions': {'EUROPE': '150', 'FR': '250', 'WESTERN_EUROPE': '155', 'WORLD': '001'}, 'statistical_groupings': ['MEDC']}, 'callingcode': 33, 'currency': {'alternate_symbols': [], 'decimal_mark': ',', 'html_entity': '&#x20AC;', 'iso_code': 'EUR', 'iso_numeric': '978', 'name': 'Euro', 'smallest_denomination': 1, 'subunit': 'Cent', 'subunit_to_unit': 100, 'symbol': '€', 'symbol_first': 0, 'thousands_separator': '.'}, 'flag': '🇫🇷', 'geohash': 'u0hw06efq6tstqgvvvhr', 'qibla': 120.77, 'roadinfo': {'drive_on': 'right', 'speed_in': 'km/h'}, 'sun': {'rise': {'apparent': 1607929800, 'astronomical': 1607923260, 'civil': 1607927760, 'nautical': 1607925480}, 'set': {'apparent': 1607960940, 'astronomical': 1607967420, 'civil': 1607962980, 'nautical': 1607965260}}, 'timezone': {'name': 'Europe/Paris', 'now_in_dst': 0, 'offset_sec': 3600, 'offset_string': '+0100', 'short_name': 'CET'}, 'what3words': {'words': 'encryption.animated.ladybird'}, 'wikidata': 'Q12751'}, 'bounds': {'northeast': {'lat': 46.4563726, 'lng': 7.0452884}, 'southwest': {'lat': 45.6817078, 'lng': 5.8051345}}, 'components': {'ISO_3166-1_alpha-2': 'FR', 'ISO_3166-1_alpha-3': 'FRA', '_category': 'place', '_type': 'county', 'continent': 'Europe', 'country': 'France', 'country_code': 'fr', 'county': 'Upper Savoy', 'political_union': 'European Union', 'postcode': '74800', 'state': 'Auvergne-Rhône-Alpes', 'state_code': 'ARA'}, 'confidence': 1, 'formatted': '74800 Auvergne-Rhône-Alpes, France', 'geometry': {'lat': 46.0688208, 'lng': 6.344537}}, {'annotations': {'DMS': {'lat': \"45° 51' 10.26540'' N\", 'lng': \"6° 13' 30.22968'' E\"}, 'MGRS': '32TKR8456381443', 'Maidenhead': 'JN35cu74aq', 'Mercator': {'x': 692970.932, 'y': 5726126.711}, 'OSM': {'edit_url': 'https://www.openstreetmap.org/edit?node=5875370481#map=16/45.85285/6.22506', 'note_url': 'https://www.openstreetmap.org/note/new#map=16/45.85285/6.22506&layers=N', 'url': 'https://www.openstreetmap.org/?mlat=45.85285&mlon=6.22506#map=16/45.85285/6.22506'}, 'UN_M49': {'regions': {'EUROPE': '150', 'FR': '250', 'WESTERN_EUROPE': '155', 'WORLD': '001'}, 'statistical_groupings': ['MEDC']}, 'callingcode': 33, 'currency': {'alternate_symbols': [], 'decimal_mark': ',', 'html_entity': '&#x20AC;', 'iso_code': 'EUR', 'iso_numeric': '978', 'name': 'Euro', 'smallest_denomination': 1, 'subunit': 'Cent', 'subunit_to_unit': 100, 'symbol': '€', 'symbol_first': 0, 'thousands_separator': '.'}, 'flag': '🇫🇷', 'geohash': 'u0hkvekbnrpcrgx6upm6', 'qibla': 120.38, 'roadinfo': {'drive_on': 'right', 'road': 'Route de Planfait', 'speed_in': 'km/h'}, 'sun': {'rise': {'apparent': 1607929800, 'astronomical': 1607923320, 'civil': 1607927700, 'nautical': 1607925480}, 'set': {'apparent': 1607961000, 'astronomical': 1607967480, 'civil': 1607963040, 'nautical': 1607965320}}, 'timezone': {'name': 'Europe/Paris', 'now_in_dst': 0, 'offset_sec': 3600, 'offset_string': '+0100', 'short_name': 'CET'}, 'what3words': {'words': 'griddles.rightfully.enlisted'}}, 'bounds': {'northeast': {'lat': 45.8529015, 'lng': 6.2251138}, 'southwest': {'lat': 45.8528015, 'lng': 6.2250138}}, 'components': {'ISO_3166-1_alpha-2': 'FR', 'ISO_3166-1_alpha-3': 'FRA', '_category': 'travel/tourism', '_type': 'information', 'city': 'Talloires-Montmin', 'city_district': 'Talloires', 'continent': 'Europe', 'country': 'France', 'country_code': 'fr', 'county': 'Upper Savoy', 'hamlet': 'Ponnay', 'information': 'Planfait (Parking)', 'municipality': 'Annecy', 'political_union': 'European Union', 'postcode': '74290', 'road': 'Route de Planfait', 'state': 'Auvergne-Rhône-Alpes', 'state_code': 'ARA'}, 'confidence': 9, 'formatted': 'Planfait (Parking), Route de Planfait, 74290 Ponnay, France', 'geometry': {'lat': 45.8528515, 'lng': 6.2250638}}, {'annotations': {'DMS': {'lat': \"48° 56' 33.88920'' N\", 'lng': \"2° 35' 27.72240'' E\"}, 'MGRS': '31UDQ7005221171', 'Maidenhead': 'JN18hw06wg', 'Mercator': {'x': 288432.586, 'y': 6232915.056}, 'OSM': {'note_url': 'https://www.openstreetmap.org/note/new#map=16/48.94275/2.59103&layers=N', 'url': 'https://www.openstreetmap.org/?mlat=48.94275&mlon=2.59103#map=16/48.94275/2.59103'}, 'UN_M49': {'regions': {'EUROPE': '150', 'FR': '250', 'WESTERN_EUROPE': '155', 'WORLD': '001'}, 'statistical_groupings': ['MEDC']}, 'callingcode': 33, 'currency': {'alternate_symbols': [], 'decimal_mark': ',', 'html_entity': '&#x20AC;', 'iso_code': 'EUR', 'iso_numeric': '978', 'name': 'Euro', 'smallest_denomination': 1, 'subunit': 'Cent', 'subunit_to_unit': 100, 'symbol': '€', 'symbol_first': 0, 'thousands_separator': '.'}, 'flag': '🇫🇷', 'geohash': 'u09y6vy8pmqczrhvw394', 'qibla': 119.52, 'roadinfo': {'drive_on': 'right', 'speed_in': 'km/h'}, 'sun': {'rise': {'apparent': 1607931420, 'astronomical': 1607924460, 'civil': 1607929200, 'nautical': 1607926740}, 'set': {'apparent': 1607961120, 'astronomical': 1607968080, 'civil': 1607963340, 'nautical': 1607965740}}, 'timezone': {'name': 'Europe/Paris', 'now_in_dst': 0, 'offset_sec': 3600, 'offset_string': '+0100', 'short_name': 'CET'}, 'what3words': {'words': 'skunks.hobbit.bribing'}}, 'components': {'ISO_3166-1_alpha-2': 'FR', 'ISO_3166-1_alpha-3': 'FRA', '_category': 'road', '_type': 'road', 'city': 'Tremblay-en-France', 'continent': 'Europe', 'country': 'France', 'country_code': 'fr', 'place': 'Rue de Savoie', 'political_union': 'European Union', 'postcode': '93290', 'state': 'Île-de-France', 'state_code': 'IDF', 'state_district': 'Seine-Saint-Denis'}, 'confidence': 3, 'formatted': 'Rue de Savoie, 93290 Tremblay-en-France, France', 'geometry': {'lat': 48.942747, 'lng': 2.591034}}]\n"
     ]
    }
   ],
   "source": [
    "key = '9f253ab63bf746d7a976dbb47bf0a770'\n",
    "geocoder = OpenCageGeocode(key)\n",
    "\n",
    "query = 'Haute-savoie, France'  \n",
    "results = geocoder.geocode(query)\n",
    "\n",
    "print (results)"
   ]
  },
  {
   "cell_type": "code",
   "execution_count": 8,
   "metadata": {},
   "outputs": [
    {
     "name": "stdout",
     "output_type": "stream",
     "text": [
      "46.0688208 6.344537\n"
     ]
    }
   ],
   "source": [
    "lat = results[0]['geometry']['lat']\n",
    "\n",
    "lng = results[0]['geometry']['lng']\n",
    "\n",
    "print (lat, lng)"
   ]
  },
  {
   "cell_type": "code",
   "execution_count": 9,
   "metadata": {},
   "outputs": [],
   "source": [
    "list_lat = []   # create empty lists\n",
    "\n",
    "list_long = []\n",
    "\n",
    "\n",
    "for index, row in df.iterrows(): # iterate over rows in datafram\n",
    "    Code = row['Code'] \n",
    "    Commune = row['Commune']    \n",
    "    query = str(Code)+','+str(Commune)\n",
    "\n",
    "    results = geocoder.geocode(query)   \n",
    "    lat = results[0]['geometry']['lat']\n",
    "    long = results[0]['geometry']['lng']\n",
    "\n",
    "    list_lat.append(lat)\n",
    "    list_long.append(long)\n",
    "\n",
    "# create new columns from lists    \n",
    "\n",
    "df['lat'] = list_lat   \n",
    "\n",
    "df['lon'] = list_long"
   ]
  },
  {
   "cell_type": "code",
   "execution_count": null,
   "metadata": {},
   "outputs": [],
   "source": []
  }
 ],
 "metadata": {
  "kernelspec": {
   "display_name": "Python 3",
   "language": "python",
   "name": "python3"
  },
  "language_info": {
   "codemirror_mode": {
    "name": "ipython",
    "version": 3
   },
   "file_extension": ".py",
   "mimetype": "text/x-python",
   "name": "python",
   "nbconvert_exporter": "python",
   "pygments_lexer": "ipython3",
   "version": "3.8.3"
  }
 },
 "nbformat": 4,
 "nbformat_minor": 4
}
